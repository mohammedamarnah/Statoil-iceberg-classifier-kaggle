{
 "cells": [
  {
   "cell_type": "code",
   "execution_count": 86,
   "metadata": {},
   "outputs": [
    {
     "name": "stdout",
     "output_type": "stream",
     "text": [
      "sample_submission.csv\n",
      "test.json\n",
      "train.json\n",
      "\n"
     ]
    }
   ],
   "source": [
    "import numpy as np\n",
    "import pandas as pd\n",
    "from sklearn.model_selection import train_test_split\n",
    "from subprocess import check_output\n",
    "\n",
    "from matplotlib import pyplot\n",
    "from keras.preprocessing.image import ImageDataGenerator\n",
    "from keras.models import Sequential\n",
    "from keras.layers import Conv2D, MaxPooling2D, Dense, Dropout, Input, Flatten\n",
    "from keras.layers import GlobalMaxPooling2D\n",
    "from keras.layers.normalization import BatchNormalization\n",
    "from keras.layers.merge import Concatenate\n",
    "from keras.models import Model\n",
    "from keras.optimizers import Adam\n",
    "from keras.callbacks import ModelCheckpoint, Callback, EarlyStopping\n",
    "\n",
    "from keras.preprocessing.image import ImageDataGenerator\n",
    "\n",
    "print(check_output([\"ls\", \"./dataset/\"]).decode(\"utf8\"))"
   ]
  },
  {
   "cell_type": "code",
   "execution_count": 20,
   "metadata": {},
   "outputs": [
    {
     "name": "stdout",
     "output_type": "stream",
     "text": [
      "loading files done!\n"
     ]
    }
   ],
   "source": [
    "#Load data\n",
    "train = pd.read_json(\"./dataset/train.json\")\n",
    "test = pd.read_json(\"./dataset/test.json\")\n",
    "train.inc_angle = train.inc_angle.replace('na', 0)\n",
    "train.inc_angle = train.inc_angle.astype(float).fillna(0.0)\n",
    "print(\"loading files done!\")"
   ]
  },
  {
   "cell_type": "code",
   "execution_count": 24,
   "metadata": {},
   "outputs": [
    {
     "name": "stdout",
     "output_type": "stream",
     "text": [
      "X_train:  (1203, 75, 75, 3)\n",
      "X_angle_train:  (1203,)\n",
      "y_train:  (1203,)\n",
      "***************\n",
      "X_valid:  (401, 75, 75, 3)\n",
      "X_angle_valid:  (401,)\n",
      "y_valid:  (401,)\n",
      "***************\n",
      "X_test:  (8424, 75, 75, 3)\n",
      "X_angle_test:  (8424,)\n"
     ]
    }
   ],
   "source": [
    "# Process the data and splitting\n",
    "x_band1 = np.array([np.array(band).astype(np.float32).reshape(75, 75) for band in train[\"band_1\"]])\n",
    "x_band2 = np.array([np.array(band).astype(np.float32).reshape(75, 75) for band in train[\"band_2\"]])\n",
    "X_train = np.concatenate([x_band1[:, :, :, np.newaxis], \n",
    "                         x_band2[:, :, :, np.newaxis], \n",
    "                        ((x_band1+x_band1)/2)[:, :, :, np.newaxis]], axis=-1)\n",
    "X_angle_train = np.array(train.inc_angle)\n",
    "y_train = np.array(train[\"is_iceberg\"])\n",
    "\n",
    "# Test data\n",
    "x_band1 = np.array([np.array(band).astype(np.float32).reshape(75, 75) for band in test[\"band_1\"]])\n",
    "x_band2 = np.array([np.array(band).astype(np.float32).reshape(75, 75) for band in test[\"band_2\"]])\n",
    "X_test = np.concatenate([x_band1[:, :, :, np.newaxis], \n",
    "                        x_band2[:, :, :, np.newaxis], \n",
    "                        ((x_band1+x_band1)/2)[:, :, :, np.newaxis]], axis=-1)\n",
    "X_angle_test = np.array(test.inc_angle)\n",
    "\n",
    "X_train, X_valid, X_angle_train, X_angle_valid, y_train, y_valid = train_test_split(X_train\n",
    "                    , X_angle_train, y_train, random_state=123, train_size=0.75)\n",
    "\n",
    "print(\"X_train: \", X_train.shape)\n",
    "print(\"X_angle_train: \", X_angle_train.shape)\n",
    "print(\"y_train: \", y_train.shape)\n",
    "\n",
    "print(\"***************\")\n",
    "\n",
    "print(\"X_valid: \", X_valid.shape)\n",
    "print(\"X_angle_valid: \", X_angle_valid.shape)\n",
    "print(\"y_valid: \", y_valid.shape)\n",
    "\n",
    "print(\"***************\")\n",
    "\n",
    "print(\"X_test: \", X_test.shape)\n",
    "print(\"X_angle_test: \", X_angle_test.shape)"
   ]
  },
  {
   "cell_type": "code",
   "execution_count": 58,
   "metadata": {},
   "outputs": [],
   "source": [
    "%matplotlib inline\n",
    "import cv2\n",
    "\n",
    "for i in range(X_train.shape[0]):\n",
    "    X_train[i] = cv2.cvtColor(X_train[i], cv2.COLOR_HLS2RGB)\n",
    "\n",
    "for i in range(X_valid.shape[0]):\n",
    "    X_valid[i] = cv2.cvtColor(X_valid[i], cv2.COLOR_HLS2RGB)\n",
    "\n",
    "for i in range(X_test.shape[0]):\n",
    "    X_test[i] = cv2.cvtColor(X_test[i], cv2.COLOR_HLS2RGB)"
   ]
  },
  {
   "cell_type": "code",
   "execution_count": 89,
   "metadata": {},
   "outputs": [
    {
     "data": {
      "text/plain": [
       "<matplotlib.image.AxesImage at 0x3a34ed400>"
      ]
     },
     "execution_count": 89,
     "metadata": {},
     "output_type": "execute_result"
    },
    {
     "data": {
      "image/png": "[encoded data removed]",
      "text/plain": [
       "<matplotlib.figure.Figure at 0x135f74a58>"
      ]
     },
     "metadata": {},
     "output_type": "display_data"
    }
   ],
   "source": [
    "pyplot.imshow(X_test[0])"
   ]
  },
  {
   "cell_type": "code",
   "execution_count": 91,
   "metadata": {
    "collapsed": true
   },
   "outputs": [],
   "source": [
    "def get_callbacks(filepath, patience=2):\n",
    "    es = EarlyStopping('val_loss', patience=patience, mode=\"min\")\n",
    "    msave = ModelCheckpoint(filepath, save_best_only=True)\n",
    "    return [es, msave]\n",
    "    \n",
    "def get_model():\n",
    "    bn_model = 0\n",
    "    p_activation = \"elu\"\n",
    "    input_1 = Input(shape=(75, 75, 3), name=\"X_1\")\n",
    "    input_2 = Input(shape=[1], name=\"angle\")\n",
    "    \n",
    "    img_1 = Conv2D(16, kernel_size = (3,3), activation=p_activation) ((BatchNormalization(momentum=bn_model))(input_1))\n",
    "    img_1 = Conv2D(16, kernel_size = (3,3), activation=p_activation) (img_1)\n",
    "    img_1 = MaxPooling2D((2,2)) (img_1)\n",
    "    img_1 = Dropout(0.2)(img_1)\n",
    "    img_1 = Conv2D(32, kernel_size = (3,3), activation=p_activation) (img_1)\n",
    "    img_1 = Conv2D(32, kernel_size = (3,3), activation=p_activation) (img_1)\n",
    "    img_1 = MaxPooling2D((2,2)) (img_1)\n",
    "    img_1 = Dropout(0.2)(img_1)\n",
    "    img_1 = Conv2D(64, kernel_size = (3,3), activation=p_activation) (img_1)\n",
    "    img_1 = Conv2D(64, kernel_size = (3,3), activation=p_activation) (img_1)\n",
    "    img_1 = MaxPooling2D((2,2)) (img_1)\n",
    "    img_1 = Dropout(0.2)(img_1)\n",
    "    img_1 = Conv2D(128, kernel_size = (3,3), activation=p_activation) (img_1)\n",
    "    img_1 = MaxPooling2D((2,2)) (img_1)\n",
    "    img_1 = Dropout(0.2)(img_1)\n",
    "    img_1 = GlobalMaxPooling2D() (img_1)\n",
    "    \n",
    "    \n",
    "    img_2 = Conv2D(128, kernel_size = (3,3), activation=p_activation) ((BatchNormalization(momentum=bn_model))(input_1))\n",
    "    img_2 = MaxPooling2D((2,2)) (img_2)\n",
    "    img_2 = Dropout(0.2)(img_2)\n",
    "    img_2 = GlobalMaxPooling2D() (img_2)\n",
    "    \n",
    "    img_concat =  (Concatenate()([img_1, img_2, BatchNormalization(momentum=bn_model)(input_2)]))\n",
    "    \n",
    "    dense_ayer = Dropout(0.5) (BatchNormalization(momentum=bn_model) ( Dense(256, activation=p_activation)(img_concat) ))\n",
    "    dense_ayer = Dropout(0.5) (BatchNormalization(momentum=bn_model) ( Dense(64, activation=p_activation)(dense_ayer) ))\n",
    "    output = Dense(1, activation=\"sigmoid\")(dense_ayer)\n",
    "    \n",
    "    model = Model([input_1,input_2],  output)\n",
    "    optimizer = Adam(lr=0.001, beta_1=0.9, beta_2=0.999, epsilon=1e-08, decay=0.0)\n",
    "    model.compile(loss=\"binary_crossentropy\", optimizer=optimizer, metrics=[\"accuracy\"])\n",
    "    return model"
   ]
  },
  {
   "cell_type": "code",
   "execution_count": 92,
   "metadata": {
    "scrolled": true
   },
   "outputs": [
    {
     "name": "stdout",
     "output_type": "stream",
     "text": [
      "__________________________________________________________________________________________________\n",
      "Layer (type)                    Output Shape         Param #     Connected to                     \n",
      "==================================================================================================\n",
      "X_1 (InputLayer)                (None, 75, 75, 3)    0                                            \n",
      "__________________________________________________________________________________________________\n",
      "batch_normalization_36 (BatchNo (None, 75, 75, 3)    12          X_1[0][0]                        \n",
      "__________________________________________________________________________________________________\n",
      "conv2d_57 (Conv2D)              (None, 73, 73, 16)   448         batch_normalization_36[0][0]     \n",
      "__________________________________________________________________________________________________\n",
      "conv2d_58 (Conv2D)              (None, 71, 71, 16)   2320        conv2d_57[0][0]                  \n",
      "__________________________________________________________________________________________________\n",
      "max_pooling2d_36 (MaxPooling2D) (None, 35, 35, 16)   0           conv2d_58[0][0]                  \n",
      "__________________________________________________________________________________________________\n",
      "dropout_50 (Dropout)            (None, 35, 35, 16)   0           max_pooling2d_36[0][0]           \n",
      "__________________________________________________________________________________________________\n",
      "conv2d_59 (Conv2D)              (None, 33, 33, 32)   4640        dropout_50[0][0]                 \n",
      "__________________________________________________________________________________________________\n",
      "conv2d_60 (Conv2D)              (None, 31, 31, 32)   9248        conv2d_59[0][0]                  \n",
      "__________________________________________________________________________________________________\n",
      "max_pooling2d_37 (MaxPooling2D) (None, 15, 15, 32)   0           conv2d_60[0][0]                  \n",
      "__________________________________________________________________________________________________\n",
      "dropout_51 (Dropout)            (None, 15, 15, 32)   0           max_pooling2d_37[0][0]           \n",
      "__________________________________________________________________________________________________\n",
      "conv2d_61 (Conv2D)              (None, 13, 13, 64)   18496       dropout_51[0][0]                 \n",
      "__________________________________________________________________________________________________\n",
      "conv2d_62 (Conv2D)              (None, 11, 11, 64)   36928       conv2d_61[0][0]                  \n",
      "__________________________________________________________________________________________________\n",
      "max_pooling2d_38 (MaxPooling2D) (None, 5, 5, 64)     0           conv2d_62[0][0]                  \n",
      "__________________________________________________________________________________________________\n",
      "dropout_52 (Dropout)            (None, 5, 5, 64)     0           max_pooling2d_38[0][0]           \n",
      "__________________________________________________________________________________________________\n",
      "batch_normalization_37 (BatchNo (None, 75, 75, 3)    12          X_1[0][0]                        \n",
      "__________________________________________________________________________________________________\n",
      "conv2d_63 (Conv2D)              (None, 3, 3, 128)    73856       dropout_52[0][0]                 \n",
      "__________________________________________________________________________________________________\n",
      "conv2d_64 (Conv2D)              (None, 73, 73, 128)  3584        batch_normalization_37[0][0]     \n",
      "__________________________________________________________________________________________________\n",
      "max_pooling2d_39 (MaxPooling2D) (None, 1, 1, 128)    0           conv2d_63[0][0]                  \n",
      "__________________________________________________________________________________________________\n",
      "max_pooling2d_40 (MaxPooling2D) (None, 36, 36, 128)  0           conv2d_64[0][0]                  \n",
      "__________________________________________________________________________________________________\n",
      "dropout_53 (Dropout)            (None, 1, 1, 128)    0           max_pooling2d_39[0][0]           \n",
      "__________________________________________________________________________________________________\n",
      "dropout_54 (Dropout)            (None, 36, 36, 128)  0           max_pooling2d_40[0][0]           \n",
      "__________________________________________________________________________________________________\n",
      "angle (InputLayer)              (None, 1)            0                                            \n",
      "__________________________________________________________________________________________________\n",
      "global_max_pooling2d_15 (Global (None, 128)          0           dropout_53[0][0]                 \n",
      "__________________________________________________________________________________________________\n",
      "global_max_pooling2d_16 (Global (None, 128)          0           dropout_54[0][0]                 \n",
      "__________________________________________________________________________________________________\n",
      "batch_normalization_38 (BatchNo (None, 1)            4           angle[0][0]                      \n",
      "__________________________________________________________________________________________________\n",
      "concatenate_8 (Concatenate)     (None, 257)          0           global_max_pooling2d_15[0][0]    \n",
      "                                                                 global_max_pooling2d_16[0][0]    \n",
      "                                                                 batch_normalization_38[0][0]     \n",
      "__________________________________________________________________________________________________\n",
      "dense_22 (Dense)                (None, 256)          66048       concatenate_8[0][0]              \n",
      "__________________________________________________________________________________________________\n",
      "batch_normalization_39 (BatchNo (None, 256)          1024        dense_22[0][0]                   \n",
      "__________________________________________________________________________________________________\n",
      "dropout_55 (Dropout)            (None, 256)          0           batch_normalization_39[0][0]     \n",
      "__________________________________________________________________________________________________\n",
      "dense_23 (Dense)                (None, 64)           16448       dropout_55[0][0]                 \n",
      "__________________________________________________________________________________________________\n",
      "batch_normalization_40 (BatchNo (None, 64)           256         dense_23[0][0]                   \n",
      "__________________________________________________________________________________________________\n",
      "dropout_56 (Dropout)            (None, 64)           0           batch_normalization_40[0][0]     \n",
      "__________________________________________________________________________________________________\n",
      "dense_24 (Dense)                (None, 1)            65          dropout_56[0][0]                 \n",
      "==================================================================================================\n",
      "Total params: 233,389\n",
      "Trainable params: 232,735\n",
      "Non-trainable params: 654\n",
      "__________________________________________________________________________________________________\n"
     ]
    }
   ],
   "source": [
    "model = get_model()\n",
    "model.summary()"
   ]
  },
  {
   "cell_type": "code",
   "execution_count": null,
   "metadata": {
    "collapsed": true
   },
   "outputs": [],
   "source": [
    "gen = ImageDataGenerator(horizontal_flip = True,\n",
    "                         vertical_flip = True,\n",
    "                         width_shift_range = 0.1,\n",
    "                         height_shift_range = 0.1,\n",
    "                         zoom_range = 0.1,\n",
    "                         rotation_range = 40)\n",
    "\n",
    "def gen_flow_for_two_inputs(X1, X2, y):\n",
    "    genX1 = gen.flow(X1,y,  batch_size=batch_size,seed=666)\n",
    "    genX2 = gen.flow(X1,X2, batch_size=batch_size,seed=666)\n",
    "    while True:\n",
    "            X1i = genX1.next()\n",
    "            X2i = genX2.next()\n",
    "            #Assert arrays are equal - this was for peace of mind, but slows down training\n",
    "            #np.testing.assert_array_equal(X1i[0],X2i[0])\n",
    "            yield [X1i[0], X2i[1]], X1i[1]\n",
    "            \n",
    "gen_flow = gen_flow_for_two_inputs(X_train, X_angle_train, y_train)"
   ]
  },
  {
   "cell_type": "code",
   "execution_count": 93,
   "metadata": {},
   "outputs": [
    {
     "name": "stdout",
     "output_type": "stream",
     "text": [
      "Epoch 1/25\n",
      "38/37 [==============================] - 147s 4s/step - loss: 0.7868 - acc: 0.6323 - val_loss: 0.6277 - val_acc: 0.6185\n",
      "Epoch 2/25\n",
      "38/37 [==============================] - 147s 4s/step - loss: 0.5469 - acc: 0.7527 - val_loss: 0.4740 - val_acc: 0.7930\n",
      "Epoch 3/25\n",
      "38/37 [==============================] - 130s 3s/step - loss: 0.4625 - acc: 0.8023 - val_loss: 0.3520 - val_acc: 0.8504\n",
      "Epoch 4/25\n",
      "38/37 [==============================] - 146s 4s/step - loss: 0.4319 - acc: 0.8229 - val_loss: 0.3336 - val_acc: 0.8579\n",
      "Epoch 5/25\n",
      "38/37 [==============================] - 127s 3s/step - loss: 0.4382 - acc: 0.8150 - val_loss: 0.4778 - val_acc: 0.7930\n",
      "Epoch 6/25\n",
      "38/37 [==============================] - 127s 3s/step - loss: 0.3914 - acc: 0.8302 - val_loss: 0.3654 - val_acc: 0.8603\n",
      "Epoch 7/25\n",
      "38/37 [==============================] - 126s 3s/step - loss: 0.3859 - acc: 0.8288 - val_loss: 0.3495 - val_acc: 0.8653\n",
      "Epoch 8/25\n",
      "38/37 [==============================] - 185s 5s/step - loss: 0.3671 - acc: 0.8371 - val_loss: 0.3932 - val_acc: 0.8304\n",
      "Epoch 9/25\n",
      "38/37 [==============================] - 144s 4s/step - loss: 0.3710 - acc: 0.8327 - val_loss: 0.2978 - val_acc: 0.8728\n",
      "Epoch 10/25\n",
      "38/37 [==============================] - 135s 4s/step - loss: 0.3569 - acc: 0.8353 - val_loss: 0.3118 - val_acc: 0.8678\n",
      "Epoch 11/25\n",
      "38/37 [==============================] - 143s 4s/step - loss: 0.3589 - acc: 0.8448 - val_loss: 0.3467 - val_acc: 0.8579\n",
      "Epoch 12/25\n",
      "38/37 [==============================] - 140s 4s/step - loss: 0.3500 - acc: 0.8485 - val_loss: 0.3441 - val_acc: 0.8529\n",
      "Epoch 13/25\n",
      "38/37 [==============================] - 142s 4s/step - loss: 0.3529 - acc: 0.8402 - val_loss: 0.2784 - val_acc: 0.8828\n",
      "Epoch 14/25\n",
      "38/37 [==============================] - 144s 4s/step - loss: 0.3641 - acc: 0.8437 - val_loss: 0.3144 - val_acc: 0.8678\n",
      "Epoch 15/25\n",
      "38/37 [==============================] - 124s 3s/step - loss: 0.3326 - acc: 0.8580 - val_loss: 0.3064 - val_acc: 0.8703\n",
      "Epoch 16/25\n",
      "38/37 [==============================] - 134s 4s/step - loss: 0.3441 - acc: 0.8442 - val_loss: 0.2917 - val_acc: 0.8878\n",
      "Epoch 17/25\n",
      "38/37 [==============================] - 127s 3s/step - loss: 0.3261 - acc: 0.8621 - val_loss: 0.2799 - val_acc: 0.8878\n",
      "Epoch 18/25\n",
      "38/37 [==============================] - 128s 3s/step - loss: 0.3251 - acc: 0.8600 - val_loss: 0.3354 - val_acc: 0.8579\n"
     ]
    },
    {
     "data": {
      "text/plain": [
       "<keras.callbacks.History at 0x12ebb67f0>"
      ]
     },
     "execution_count": 93,
     "metadata": {},
     "output_type": "execute_result"
    }
   ],
   "source": [
    "file_path = \"model_weights.hdf5\"\n",
    "callbacks = get_callbacks(filepath=file_path, patience=5)\n",
    "\n",
    "model.fit_generator(gen_flow\n",
    "                    ,validation_data=([X_valid, X_angle_valid], y_valid)\n",
    "                     ,steps_per_epoch=len(X_train)/32\n",
    "                    ,epochs = 25\n",
    "                     ,callbacks=callbacks)"
   ]
  },
  {
   "cell_type": "code",
   "execution_count": 94,
   "metadata": {},
   "outputs": [
    {
     "name": "stdout",
     "output_type": "stream",
     "text": [
      "Train evaluate:\n",
      "1203/1203 [==============================] - 24s 20ms/step\n",
      "[0.25459576168361547, 0.90108062699746805]\n",
      "####################\n",
      "watch list evaluate:\n",
      "401/401 [==============================] - 6s 15ms/step\n",
      "[0.2783594849958384, 0.88279301032163848]\n",
      "8424/8424 [==============================] - 166s 20ms/step\n"
     ]
    }
   ],
   "source": [
    "    model.load_weights(filepath=file_path)\n",
    "\n",
    "    print(\"Train evaluate:\")\n",
    "    print(model.evaluate([X_train, X_angle_train], y_train, verbose=1, batch_size=200))\n",
    "    print(\"####################\")\n",
    "    print(\"watch list evaluate:\")\n",
    "    print(model.evaluate([X_valid, X_angle_valid], y_valid, verbose=1, batch_size=200))\n",
    "\n",
    "\n",
    "    prediction = model.predict([X_test, X_angle_test], verbose=1, batch_size=200)\n",
    "\n",
    "    submission = pd.DataFrame({'id': test[\"id\"], 'is_iceberg': prediction.reshape((prediction.shape[0]))})\n",
    "    submission.head(10)\n",
    "\n",
    "    submission.to_csv(\"./submission.csv\", index=False)"
   ]
  },
  {
   "cell_type": "code",
   "execution_count": 69,
   "metadata": {},
   "outputs": [
    {
     "name": "stdout",
     "output_type": "stream",
     "text": [
      "sub_200_ens_densenet.csv\n",
      "sub_TF_keras.csv\n",
      "sub_blend009.csv\n",
      "sub_fcn.csv\n",
      "sub_keras_beginner.csv\n",
      "\n"
     ]
    }
   ],
   "source": [
    "import os\n",
    "print(check_output([\"ls\", \"./submissions\"]).decode(\"utf8\"))"
   ]
  },
  {
   "cell_type": "code",
   "execution_count": 71,
   "metadata": {},
   "outputs": [
    {
     "data": {
      "text/html": [
       "<div>\n",
       "<style>\n",
       "    .dataframe thead tr:only-child th {\n",
       "        text-align: right;\n",
       "    }\n",
       "\n",
       "    .dataframe thead th {\n",
       "        text-align: left;\n",
       "    }\n",
       "\n",
       "    .dataframe tbody tr th {\n",
       "        vertical-align: top;\n",
       "    }\n",
       "</style>\n",
       "<table border=\"1\" class=\"dataframe\">\n",
       "  <thead>\n",
       "    <tr style=\"text-align: right;\">\n",
       "      <th></th>\n",
       "      <th>id</th>\n",
       "      <th>is_iceberg_0</th>\n",
       "      <th>is_iceberg_1</th>\n",
       "      <th>is_iceberg_2</th>\n",
       "      <th>is_iceberg_3</th>\n",
       "      <th>is_iceberg_4</th>\n",
       "      <th>is_iceberg_5</th>\n",
       "    </tr>\n",
       "  </thead>\n",
       "  <tbody>\n",
       "    <tr>\n",
       "      <th>0</th>\n",
       "      <td>5941774d</td>\n",
       "      <td>0.094676</td>\n",
       "      <td>0.005586</td>\n",
       "      <td>0.046490</td>\n",
       "      <td>1.943216e-02</td>\n",
       "      <td>0.008171</td>\n",
       "      <td>0.010215</td>\n",
       "    </tr>\n",
       "    <tr>\n",
       "      <th>1</th>\n",
       "      <td>4023181e</td>\n",
       "      <td>0.952222</td>\n",
       "      <td>0.145927</td>\n",
       "      <td>0.062827</td>\n",
       "      <td>3.168809e-02</td>\n",
       "      <td>0.638348</td>\n",
       "      <td>0.237662</td>\n",
       "    </tr>\n",
       "    <tr>\n",
       "      <th>2</th>\n",
       "      <td>b20200e4</td>\n",
       "      <td>0.167771</td>\n",
       "      <td>0.000015</td>\n",
       "      <td>0.023744</td>\n",
       "      <td>4.000000e-08</td>\n",
       "      <td>0.008061</td>\n",
       "      <td>1.000000</td>\n",
       "    </tr>\n",
       "    <tr>\n",
       "      <th>3</th>\n",
       "      <td>e7f018bb</td>\n",
       "      <td>0.989356</td>\n",
       "      <td>0.999914</td>\n",
       "      <td>0.989423</td>\n",
       "      <td>9.925741e-01</td>\n",
       "      <td>0.999506</td>\n",
       "      <td>0.999533</td>\n",
       "    </tr>\n",
       "    <tr>\n",
       "      <th>4</th>\n",
       "      <td>4371c8c3</td>\n",
       "      <td>0.900321</td>\n",
       "      <td>0.033843</td>\n",
       "      <td>0.101041</td>\n",
       "      <td>2.215107e-02</td>\n",
       "      <td>0.774739</td>\n",
       "      <td>0.994269</td>\n",
       "    </tr>\n",
       "  </tbody>\n",
       "</table>\n",
       "</div>"
      ],
      "text/plain": [
       "         id  is_iceberg_0  is_iceberg_1  is_iceberg_2  is_iceberg_3  \\\n",
       "0  5941774d      0.094676      0.005586      0.046490  1.943216e-02   \n",
       "1  4023181e      0.952222      0.145927      0.062827  3.168809e-02   \n",
       "2  b20200e4      0.167771      0.000015      0.023744  4.000000e-08   \n",
       "3  e7f018bb      0.989356      0.999914      0.989423  9.925741e-01   \n",
       "4  4371c8c3      0.900321      0.033843      0.101041  2.215107e-02   \n",
       "\n",
       "   is_iceberg_4  is_iceberg_5  \n",
       "0      0.008171      0.010215  \n",
       "1      0.638348      0.237662  \n",
       "2      0.008061      1.000000  \n",
       "3      0.999506      0.999533  \n",
       "4      0.774739      0.994269  "
      ]
     },
     "execution_count": 71,
     "metadata": {},
     "output_type": "execute_result"
    }
   ],
   "source": [
    "sub_path = \"./submissions/\"\n",
    "all_files = os.listdir(sub_path)\n",
    "\n",
    "# Read and concatenate submissions\n",
    "outs = [pd.read_csv(os.path.join(sub_path, f), index_col=0) for f in all_files]\n",
    "concat_sub = pd.concat(outs, axis=1)\n",
    "cols = list(map(lambda x: \"is_iceberg_\" + str(x), range(len(concat_sub.columns))))\n",
    "concat_sub.columns = cols\n",
    "concat_sub.reset_index(inplace=True)\n",
    "concat_sub.head()"
   ]
  },
  {
   "cell_type": "code",
   "execution_count": 75,
   "metadata": {
    "collapsed": true
   },
   "outputs": [],
   "source": [
    "# get the data fields ready for stacking\n",
    "concat_sub['is_iceberg_max'] = concat_sub.iloc[:, 1:7].max(axis=1)\n",
    "concat_sub['is_iceberg_min'] = concat_sub.iloc[:, 1:7].min(axis=1)\n",
    "concat_sub['is_iceberg_mean'] = concat_sub.iloc[:, 1:7].mean(axis=1)\n",
    "concat_sub['is_iceberg_median'] = concat_sub.iloc[:, 1:7].median(axis=1)"
   ]
  },
  {
   "cell_type": "code",
   "execution_count": 76,
   "metadata": {
    "collapsed": true
   },
   "outputs": [],
   "source": [
    "# set up cutoff threshold for lower and upper bounds, easy to twist \n",
    "cutoff_lo = 0.8\n",
    "cutoff_hi = 0.2"
   ]
  },
  {
   "cell_type": "code",
   "execution_count": 77,
   "metadata": {},
   "outputs": [
    {
     "data": {
      "text/html": [
       "<div>\n",
       "<style>\n",
       "    .dataframe thead tr:only-child th {\n",
       "        text-align: right;\n",
       "    }\n",
       "\n",
       "    .dataframe thead th {\n",
       "        text-align: left;\n",
       "    }\n",
       "\n",
       "    .dataframe tbody tr th {\n",
       "        vertical-align: top;\n",
       "    }\n",
       "</style>\n",
       "<table border=\"1\" class=\"dataframe\">\n",
       "  <thead>\n",
       "    <tr style=\"text-align: right;\">\n",
       "      <th></th>\n",
       "      <th>id</th>\n",
       "      <th>is_iceberg_0</th>\n",
       "      <th>is_iceberg_1</th>\n",
       "      <th>is_iceberg_2</th>\n",
       "      <th>is_iceberg_3</th>\n",
       "      <th>is_iceberg_4</th>\n",
       "      <th>is_iceberg_5</th>\n",
       "      <th>is_iceberg_max</th>\n",
       "      <th>is_iceberg_min</th>\n",
       "      <th>is_iceberg_mean</th>\n",
       "      <th>is_iceberg_median</th>\n",
       "    </tr>\n",
       "  </thead>\n",
       "  <tbody>\n",
       "    <tr>\n",
       "      <th>0</th>\n",
       "      <td>5941774d</td>\n",
       "      <td>0.094676</td>\n",
       "      <td>0.005586</td>\n",
       "      <td>0.046490</td>\n",
       "      <td>1.943216e-02</td>\n",
       "      <td>0.008171</td>\n",
       "      <td>0.010215</td>\n",
       "      <td>0.094676</td>\n",
       "      <td>5.586202e-03</td>\n",
       "      <td>0.030762</td>\n",
       "      <td>0.014823</td>\n",
       "    </tr>\n",
       "    <tr>\n",
       "      <th>1</th>\n",
       "      <td>4023181e</td>\n",
       "      <td>0.952222</td>\n",
       "      <td>0.145927</td>\n",
       "      <td>0.062827</td>\n",
       "      <td>3.168809e-02</td>\n",
       "      <td>0.638348</td>\n",
       "      <td>0.237662</td>\n",
       "      <td>0.952222</td>\n",
       "      <td>3.168809e-02</td>\n",
       "      <td>0.344779</td>\n",
       "      <td>0.191794</td>\n",
       "    </tr>\n",
       "    <tr>\n",
       "      <th>2</th>\n",
       "      <td>b20200e4</td>\n",
       "      <td>0.167771</td>\n",
       "      <td>0.000015</td>\n",
       "      <td>0.023744</td>\n",
       "      <td>4.000000e-08</td>\n",
       "      <td>0.008061</td>\n",
       "      <td>1.000000</td>\n",
       "      <td>1.000000</td>\n",
       "      <td>4.000000e-08</td>\n",
       "      <td>0.199932</td>\n",
       "      <td>0.015902</td>\n",
       "    </tr>\n",
       "    <tr>\n",
       "      <th>3</th>\n",
       "      <td>e7f018bb</td>\n",
       "      <td>0.989356</td>\n",
       "      <td>0.999914</td>\n",
       "      <td>0.989423</td>\n",
       "      <td>9.925741e-01</td>\n",
       "      <td>0.999506</td>\n",
       "      <td>0.999533</td>\n",
       "      <td>0.999914</td>\n",
       "      <td>9.893560e-01</td>\n",
       "      <td>0.995051</td>\n",
       "      <td>0.996040</td>\n",
       "    </tr>\n",
       "    <tr>\n",
       "      <th>4</th>\n",
       "      <td>4371c8c3</td>\n",
       "      <td>0.900321</td>\n",
       "      <td>0.033843</td>\n",
       "      <td>0.101041</td>\n",
       "      <td>2.215107e-02</td>\n",
       "      <td>0.774739</td>\n",
       "      <td>0.994269</td>\n",
       "      <td>0.994269</td>\n",
       "      <td>2.215107e-02</td>\n",
       "      <td>0.471061</td>\n",
       "      <td>0.437890</td>\n",
       "    </tr>\n",
       "  </tbody>\n",
       "</table>\n",
       "</div>"
      ],
      "text/plain": [
       "         id  is_iceberg_0  is_iceberg_1  is_iceberg_2  is_iceberg_3  \\\n",
       "0  5941774d      0.094676      0.005586      0.046490  1.943216e-02   \n",
       "1  4023181e      0.952222      0.145927      0.062827  3.168809e-02   \n",
       "2  b20200e4      0.167771      0.000015      0.023744  4.000000e-08   \n",
       "3  e7f018bb      0.989356      0.999914      0.989423  9.925741e-01   \n",
       "4  4371c8c3      0.900321      0.033843      0.101041  2.215107e-02   \n",
       "\n",
       "   is_iceberg_4  is_iceberg_5  is_iceberg_max  is_iceberg_min  \\\n",
       "0      0.008171      0.010215        0.094676    5.586202e-03   \n",
       "1      0.638348      0.237662        0.952222    3.168809e-02   \n",
       "2      0.008061      1.000000        1.000000    4.000000e-08   \n",
       "3      0.999506      0.999533        0.999914    9.893560e-01   \n",
       "4      0.774739      0.994269        0.994269    2.215107e-02   \n",
       "\n",
       "   is_iceberg_mean  is_iceberg_median  \n",
       "0         0.030762           0.014823  \n",
       "1         0.344779           0.191794  \n",
       "2         0.199932           0.015902  \n",
       "3         0.995051           0.996040  \n",
       "4         0.471061           0.437890  "
      ]
     },
     "execution_count": 77,
     "metadata": {},
     "output_type": "execute_result"
    }
   ],
   "source": [
    "concat_sub.head()"
   ]
  },
  {
   "cell_type": "code",
   "execution_count": 78,
   "metadata": {
    "collapsed": true
   },
   "outputs": [],
   "source": [
    "# load the model with best base performance\n",
    "sub_base = pd.read_csv('./submissions/sub_200_ens_densenet.csv')\n",
    "concat_sub['is_iceberg_base'] = sub_base['is_iceberg']\n",
    "concat_sub['is_iceberg'] = np.where(np.all(concat_sub.iloc[:,1:7] > cutoff_lo, axis=1), \n",
    "                                    concat_sub['is_iceberg_max'], \n",
    "                                    np.where(np.all(concat_sub.iloc[:,1:7] < cutoff_hi, axis=1),\n",
    "                                             concat_sub['is_iceberg_min'], \n",
    "                                             concat_sub['is_iceberg_base']))\n",
    "concat_sub[['id', 'is_iceberg']].to_csv('stack_minmax_bestbase.csv', \n",
    "                                        index=False, float_format='%.6f')"
   ]
  },
  {
   "cell_type": "code",
   "execution_count": null,
   "metadata": {
    "collapsed": true
   },
   "outputs": [],
   "source": []
  }
 ],
 "metadata": {
  "kernelspec": {
   "display_name": "Python 3",
   "language": "python",
   "name": "python3"
  },
  "language_info": {
   "codemirror_mode": {
    "name": "ipython",
    "version": 3
   },
   "file_extension": ".py",
   "mimetype": "text/x-python",
   "name": "python",
   "nbconvert_exporter": "python",
   "pygments_lexer": "ipython3",
   "version": "3.5.2"
  },
  "widgets": {
   "state": {},
   "version": "1.1.2"
  }
 },
 "nbformat": 4,
 "nbformat_minor": 2
}
